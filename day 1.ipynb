{
 "cells": [
  {
   "cell_type": "markdown",
   "id": "9f6359c0",
   "metadata": {},
   "source": [
    "### This session is about to explain rules for defining identifiers\n",
    "\n"
   ]
  },
  {
   "cell_type": "code",
   "execution_count": 8,
   "id": "365ba44f",
   "metadata": {},
   "outputs": [],
   "source": [
    "1.Allowed a-z /A-Z/0-9/_"
   ]
  },
  {
   "cell_type": "code",
   "execution_count": 9,
   "id": "83f027de",
   "metadata": {},
   "outputs": [],
   "source": [
    "product_id = 101"
   ]
  },
  {
   "cell_type": "code",
   "execution_count": 10,
   "id": "c5fae25e",
   "metadata": {},
   "outputs": [],
   "source": [
    "id1 = 500"
   ]
  },
  {
   "cell_type": "code",
   "execution_count": 11,
   "id": "7024b084",
   "metadata": {},
   "outputs": [
    {
     "data": {
      "text/plain": [
       "500"
      ]
     },
     "execution_count": 11,
     "metadata": {},
     "output_type": "execute_result"
    }
   ],
   "source": [
    "id1"
   ]
  },
  {
   "cell_type": "code",
   "execution_count": 12,
   "id": "9cf8d01a",
   "metadata": {},
   "outputs": [],
   "source": [
    "Azaaa = 'Java'"
   ]
  },
  {
   "cell_type": "code",
   "execution_count": 13,
   "id": "e7d45822",
   "metadata": {},
   "outputs": [
    {
     "data": {
      "text/plain": [
       "'Java'"
      ]
     },
     "execution_count": 13,
     "metadata": {},
     "output_type": "execute_result"
    }
   ],
   "source": [
    "Azaaa"
   ]
  },
  {
   "cell_type": "code",
   "execution_count": 14,
   "id": "87a2a227",
   "metadata": {},
   "outputs": [],
   "source": [
    "emp_id_on_16_06_22 = 500"
   ]
  },
  {
   "cell_type": "code",
   "execution_count": 15,
   "id": "5063dd34",
   "metadata": {},
   "outputs": [],
   "source": [
    "Emp_ID = 900"
   ]
  },
  {
   "cell_type": "code",
   "execution_count": 16,
   "id": "35ea5a6a",
   "metadata": {},
   "outputs": [
    {
     "data": {
      "text/plain": [
       "900"
      ]
     },
     "execution_count": 16,
     "metadata": {},
     "output_type": "execute_result"
    }
   ],
   "source": [
    "Emp_ID"
   ]
  },
  {
   "cell_type": "code",
   "execution_count": 17,
   "id": "d12950de",
   "metadata": {},
   "outputs": [],
   "source": [
    "iPhone = 13"
   ]
  },
  {
   "cell_type": "code",
   "execution_count": 18,
   "id": "1c70177a",
   "metadata": {},
   "outputs": [
    {
     "data": {
      "text/plain": [
       "13"
      ]
     },
     "execution_count": 18,
     "metadata": {},
     "output_type": "execute_result"
    }
   ],
   "source": [
    "iPhone"
   ]
  },
  {
   "cell_type": "code",
   "execution_count": 19,
   "id": "b2ffc611",
   "metadata": {},
   "outputs": [],
   "source": [
    "asfasdfsadfdfad = 500"
   ]
  },
  {
   "cell_type": "code",
   "execution_count": 20,
   "id": "a4f659d8",
   "metadata": {},
   "outputs": [
    {
     "ename": "NameError",
     "evalue": "name 'iphone' is not defined",
     "output_type": "error",
     "traceback": [
      "\u001b[1;31m---------------------------------------------------------------------------\u001b[0m",
      "\u001b[1;31mNameError\u001b[0m                                 Traceback (most recent call last)",
      "\u001b[1;32m<ipython-input-20-af10ead2ab0e>\u001b[0m in \u001b[0;36m<module>\u001b[1;34m\u001b[0m\n\u001b[1;32m----> 1\u001b[1;33m \u001b[0miphone\u001b[0m\u001b[1;33m\u001b[0m\u001b[1;33m\u001b[0m\u001b[0m\n\u001b[0m",
      "\u001b[1;31mNameError\u001b[0m: name 'iphone' is not defined"
     ]
    }
   ],
   "source": [
    "iphone"
   ]
  },
  {
   "cell_type": "code",
   "execution_count": null,
   "id": "2bb1a538",
   "metadata": {},
   "outputs": [],
   "source": [
    "Dev /ML/D\n",
    "1.Requirement client\n",
    "2.code --> General\n",
    "3.good debugging skill\n",
    "\n",
    "\n",
    "\n",
    "time complexity\n",
    "space complexity\n"
   ]
  },
  {
   "cell_type": "code",
   "execution_count": 27,
   "id": "0434c373",
   "metadata": {},
   "outputs": [],
   "source": [
    "#2.varibale never starts with number "
   ]
  },
  {
   "cell_type": "code",
   "execution_count": 28,
   "id": "67dbc205",
   "metadata": {},
   "outputs": [
    {
     "ename": "SyntaxError",
     "evalue": "invalid syntax (<ipython-input-28-b3ce1ef4dd3d>, line 1)",
     "output_type": "error",
     "traceback": [
      "\u001b[1;36m  File \u001b[1;32m\"<ipython-input-28-b3ce1ef4dd3d>\"\u001b[1;36m, line \u001b[1;32m1\u001b[0m\n\u001b[1;33m    100a = 'pufbsdf'\u001b[0m\n\u001b[1;37m       ^\u001b[0m\n\u001b[1;31mSyntaxError\u001b[0m\u001b[1;31m:\u001b[0m invalid syntax\n"
     ]
    }
   ],
   "source": [
    "100a = 'pufbsdf'"
   ]
  },
  {
   "cell_type": "code",
   "execution_count": 29,
   "id": "7728a109",
   "metadata": {},
   "outputs": [
    {
     "ename": "SyntaxError",
     "evalue": "invalid syntax (<ipython-input-29-8656833c4eab>, line 1)",
     "output_type": "error",
     "traceback": [
      "\u001b[1;36m  File \u001b[1;32m\"<ipython-input-29-8656833c4eab>\"\u001b[1;36m, line \u001b[1;32m1\u001b[0m\n\u001b[1;33m    1employee = 'java'\u001b[0m\n\u001b[1;37m     ^\u001b[0m\n\u001b[1;31mSyntaxError\u001b[0m\u001b[1;31m:\u001b[0m invalid syntax\n"
     ]
    }
   ],
   "source": [
    "1employee = 'java'"
   ]
  },
  {
   "cell_type": "code",
   "execution_count": null,
   "id": "2dc13354",
   "metadata": {},
   "outputs": [],
   "source": [
    "#3.varibale length -- no limit "
   ]
  },
  {
   "cell_type": "code",
   "execution_count": 30,
   "id": "83a506ae",
   "metadata": {},
   "outputs": [],
   "source": [
    "aaaaaaaaaaaaaaaaaaaaaaaaaaaaaaaaaaaaaaaaaaaaaaa = 600"
   ]
  },
  {
   "cell_type": "code",
   "execution_count": 31,
   "id": "f9ab8d80",
   "metadata": {},
   "outputs": [
    {
     "data": {
      "text/plain": [
       "600"
      ]
     },
     "execution_count": 31,
     "metadata": {},
     "output_type": "execute_result"
    }
   ],
   "source": [
    "aaaaaaaaaaaaaaaaaaaaaaaaaaaaaaaaaaaaaaaaaaaaaaa"
   ]
  },
  {
   "cell_type": "code",
   "execution_count": null,
   "id": "06357bd1",
   "metadata": {},
   "outputs": [],
   "source": [
    "' '\n",
    "\" \"\n",
    "''' '''\n",
    "\"\"\"  \"\"\""
   ]
  },
  {
   "cell_type": "code",
   "execution_count": 32,
   "id": "cbb01b55",
   "metadata": {},
   "outputs": [],
   "source": [
    "EmpName = 'Keshav'"
   ]
  },
  {
   "cell_type": "code",
   "execution_count": 33,
   "id": "78031a08",
   "metadata": {},
   "outputs": [],
   "source": [
    "PassWord = 'Admin@123'"
   ]
  },
  {
   "cell_type": "code",
   "execution_count": 34,
   "id": "ad929e0f",
   "metadata": {},
   "outputs": [],
   "source": [
    "empid = 101"
   ]
  },
  {
   "cell_type": "code",
   "execution_count": 35,
   "id": "853df020",
   "metadata": {},
   "outputs": [],
   "source": [
    "empsal = 104815.655"
   ]
  },
  {
   "cell_type": "code",
   "execution_count": 36,
   "id": "d37c9fbe",
   "metadata": {},
   "outputs": [
    {
     "data": {
      "text/plain": [
       "104815.655"
      ]
     },
     "execution_count": 36,
     "metadata": {},
     "output_type": "execute_result"
    }
   ],
   "source": [
    "empsal"
   ]
  },
  {
   "cell_type": "code",
   "execution_count": 37,
   "id": "83f7a47c",
   "metadata": {},
   "outputs": [],
   "source": [
    "#4. case sensetive"
   ]
  },
  {
   "cell_type": "code",
   "execution_count": 38,
   "id": "ae97904a",
   "metadata": {},
   "outputs": [],
   "source": [
    "a = 100"
   ]
  },
  {
   "cell_type": "code",
   "execution_count": 40,
   "id": "f41625fd",
   "metadata": {},
   "outputs": [],
   "source": [
    "A = 200"
   ]
  },
  {
   "cell_type": "code",
   "execution_count": 41,
   "id": "d70bc89f",
   "metadata": {},
   "outputs": [
    {
     "data": {
      "text/plain": [
       "200"
      ]
     },
     "execution_count": 41,
     "metadata": {},
     "output_type": "execute_result"
    }
   ],
   "source": [
    "A"
   ]
  },
  {
   "cell_type": "code",
   "execution_count": 42,
   "id": "0455cf9d",
   "metadata": {},
   "outputs": [
    {
     "data": {
      "text/plain": [
       "100"
      ]
     },
     "execution_count": 42,
     "metadata": {},
     "output_type": "execute_result"
    }
   ],
   "source": [
    "a"
   ]
  },
  {
   "cell_type": "code",
   "execution_count": 43,
   "id": "f0c126d7",
   "metadata": {},
   "outputs": [],
   "source": [
    "#5. _ only allowed in python"
   ]
  },
  {
   "cell_type": "code",
   "execution_count": 44,
   "id": "66f06cbd",
   "metadata": {},
   "outputs": [],
   "source": [
    "emp_id = 50\n"
   ]
  },
  {
   "cell_type": "code",
   "execution_count": 45,
   "id": "6c709f6f",
   "metadata": {},
   "outputs": [],
   "source": [
    "_emp = 600"
   ]
  },
  {
   "cell_type": "code",
   "execution_count": 46,
   "id": "528e097e",
   "metadata": {},
   "outputs": [
    {
     "ename": "SyntaxError",
     "evalue": "cannot assign to operator (<ipython-input-46-6f13f26d1165>, line 1)",
     "output_type": "error",
     "traceback": [
      "\u001b[1;36m  File \u001b[1;32m\"<ipython-input-46-6f13f26d1165>\"\u001b[1;36m, line \u001b[1;32m1\u001b[0m\n\u001b[1;33m    t@mp = 500\u001b[0m\n\u001b[1;37m    ^\u001b[0m\n\u001b[1;31mSyntaxError\u001b[0m\u001b[1;31m:\u001b[0m cannot assign to operator\n"
     ]
    }
   ],
   "source": [
    "t@mp = 500"
   ]
  },
  {
   "cell_type": "code",
   "execution_count": null,
   "id": "81994ae2",
   "metadata": {},
   "outputs": [],
   "source": []
  },
  {
   "cell_type": "code",
   "execution_count": 48,
   "id": "1b2abf3e",
   "metadata": {},
   "outputs": [],
   "source": [
    "product_price = 45000"
   ]
  },
  {
   "cell_type": "code",
   "execution_count": 49,
   "id": "6607cdeb",
   "metadata": {},
   "outputs": [],
   "source": [
    "#we cannt use keyword as identifiers"
   ]
  },
  {
   "cell_type": "code",
   "execution_count": null,
   "id": "aca07558",
   "metadata": {},
   "outputs": [],
   "source": [
    "python -->\n",
    "\n",
    "\n",
    "word reserved --->"
   ]
  },
  {
   "cell_type": "code",
   "execution_count": 50,
   "id": "04606b8a",
   "metadata": {},
   "outputs": [],
   "source": [
    "import keyword"
   ]
  },
  {
   "cell_type": "code",
   "execution_count": 51,
   "id": "de559ad5",
   "metadata": {},
   "outputs": [
    {
     "data": {
      "text/plain": [
       "['False',\n",
       " 'None',\n",
       " 'True',\n",
       " 'and',\n",
       " 'as',\n",
       " 'assert',\n",
       " 'async',\n",
       " 'await',\n",
       " 'break',\n",
       " 'class',\n",
       " 'continue',\n",
       " 'def',\n",
       " 'del',\n",
       " 'elif',\n",
       " 'else',\n",
       " 'except',\n",
       " 'finally',\n",
       " 'for',\n",
       " 'from',\n",
       " 'global',\n",
       " 'if',\n",
       " 'import',\n",
       " 'in',\n",
       " 'is',\n",
       " 'lambda',\n",
       " 'nonlocal',\n",
       " 'not',\n",
       " 'or',\n",
       " 'pass',\n",
       " 'raise',\n",
       " 'return',\n",
       " 'try',\n",
       " 'while',\n",
       " 'with',\n",
       " 'yield']"
      ]
     },
     "execution_count": 51,
     "metadata": {},
     "output_type": "execute_result"
    }
   ],
   "source": [
    "keyword.kwlist"
   ]
  },
  {
   "cell_type": "code",
   "execution_count": 52,
   "id": "d6f0f5a0",
   "metadata": {},
   "outputs": [
    {
     "ename": "SyntaxError",
     "evalue": "invalid syntax (<ipython-input-52-f6e1a3f0d56b>, line 1)",
     "output_type": "error",
     "traceback": [
      "\u001b[1;36m  File \u001b[1;32m\"<ipython-input-52-f6e1a3f0d56b>\"\u001b[1;36m, line \u001b[1;32m1\u001b[0m\n\u001b[1;33m    pass = 500\u001b[0m\n\u001b[1;37m         ^\u001b[0m\n\u001b[1;31mSyntaxError\u001b[0m\u001b[1;31m:\u001b[0m invalid syntax\n"
     ]
    }
   ],
   "source": [
    "pass = 500"
   ]
  },
  {
   "cell_type": "code",
   "execution_count": 53,
   "id": "2c63f80e",
   "metadata": {},
   "outputs": [
    {
     "data": {
      "text/plain": [
       "35"
      ]
     },
     "execution_count": 53,
     "metadata": {},
     "output_type": "execute_result"
    }
   ],
   "source": [
    "len(['False',\n",
    " 'None',\n",
    " 'True',\n",
    " 'and',\n",
    " 'as',\n",
    " 'assert',\n",
    " 'async',\n",
    " 'await',\n",
    " 'break',\n",
    " 'class',\n",
    " 'continue',\n",
    " 'def',\n",
    " 'del',\n",
    " 'elif',\n",
    " 'else',\n",
    " 'except',\n",
    " 'finally',\n",
    " 'for',\n",
    " 'from',\n",
    " 'global',\n",
    " 'if',\n",
    " 'import',\n",
    " 'in',\n",
    " 'is',\n",
    " 'lambda',\n",
    " 'nonlocal',\n",
    " 'not',\n",
    " 'or',\n",
    " 'pass',\n",
    " 'raise',\n",
    " 'return',\n",
    " 'try',\n",
    " 'while',\n",
    " 'with',\n",
    " 'yield'])"
   ]
  },
  {
   "cell_type": "code",
   "execution_count": 54,
   "id": "fbf5cb5b",
   "metadata": {},
   "outputs": [],
   "source": [
    "test = 'pyttest'"
   ]
  },
  {
   "cell_type": "code",
   "execution_count": 55,
   "id": "c2ee79ad",
   "metadata": {},
   "outputs": [
    {
     "ename": "NameError",
     "evalue": "name 'TEST' is not defined",
     "output_type": "error",
     "traceback": [
      "\u001b[1;31m---------------------------------------------------------------------------\u001b[0m",
      "\u001b[1;31mNameError\u001b[0m                                 Traceback (most recent call last)",
      "\u001b[1;32m<ipython-input-55-4c49b08e9b25>\u001b[0m in \u001b[0;36m<module>\u001b[1;34m\u001b[0m\n\u001b[1;32m----> 1\u001b[1;33m \u001b[0mTEST\u001b[0m\u001b[1;33m\u001b[0m\u001b[1;33m\u001b[0m\u001b[0m\n\u001b[0m",
      "\u001b[1;31mNameError\u001b[0m: name 'TEST' is not defined"
     ]
    }
   ],
   "source": [
    "TEST"
   ]
  },
  {
   "cell_type": "code",
   "execution_count": 56,
   "id": "c49d5e67",
   "metadata": {},
   "outputs": [],
   "source": [
    "employee1 = 450"
   ]
  },
  {
   "cell_type": "code",
   "execution_count": 58,
   "id": "5e4d3cb2",
   "metadata": {},
   "outputs": [],
   "source": [
    "#employee1"
   ]
  },
  {
   "cell_type": "code",
   "execution_count": null,
   "id": "e42b044c",
   "metadata": {},
   "outputs": [],
   "source": []
  },
  {
   "cell_type": "code",
   "execution_count": 63,
   "id": "496398d4",
   "metadata": {},
   "outputs": [
    {
     "name": "stdout",
     "output_type": "stream",
     "text": [
      "Enter the number:97\n",
      "Enter the number:59\n",
      "Addition of 97 and 59 is 156\n"
     ]
    }
   ],
   "source": [
    "x = int(input(\"Enter the number:\"))\n",
    "y = int(input(\"Enter the number:\"))\n",
    "print(f\"Addition of {x} and {y} is {x+y}\")"
   ]
  },
  {
   "cell_type": "markdown",
   "id": "6fabb107",
   "metadata": {},
   "source": [
    "# end of session"
   ]
  },
  {
   "cell_type": "code",
   "execution_count": null,
   "id": "f953268f",
   "metadata": {},
   "outputs": [],
   "source": []
  },
  {
   "cell_type": "code",
   "execution_count": 64,
   "id": "69a32ae8",
   "metadata": {},
   "outputs": [],
   "source": [
    "#Data Types/DS"
   ]
  },
  {
   "cell_type": "code",
   "execution_count": 65,
   "id": "757374c4",
   "metadata": {},
   "outputs": [
    {
     "ename": "SyntaxError",
     "evalue": "invalid syntax (<ipython-input-65-65e8459223dd>, line 1)",
     "output_type": "error",
     "traceback": [
      "\u001b[1;36m  File \u001b[1;32m\"<ipython-input-65-65e8459223dd>\"\u001b[1;36m, line \u001b[1;32m1\u001b[0m\n\u001b[1;33m    not\u001b[0m\n\u001b[1;37m       ^\u001b[0m\n\u001b[1;31mSyntaxError\u001b[0m\u001b[1;31m:\u001b[0m invalid syntax\n"
     ]
    }
   ],
   "source": [
    "not "
   ]
  },
  {
   "cell_type": "code",
   "execution_count": null,
   "id": "051749dc",
   "metadata": {},
   "outputs": [],
   "source": [
    "global"
   ]
  }
 ],
 "metadata": {
  "kernelspec": {
   "display_name": "Python 3",
   "language": "python",
   "name": "python3"
  },
  "language_info": {
   "codemirror_mode": {
    "name": "ipython",
    "version": 3
   },
   "file_extension": ".py",
   "mimetype": "text/x-python",
   "name": "python",
   "nbconvert_exporter": "python",
   "pygments_lexer": "ipython3",
   "version": "3.8.8"
  }
 },
 "nbformat": 4,
 "nbformat_minor": 5
}
