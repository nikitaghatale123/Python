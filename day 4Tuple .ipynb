{
 "cells": [
  {
   "cell_type": "code",
   "execution_count": null,
   "id": "171c68ad",
   "metadata": {},
   "outputs": [],
   "source": [
    "Tuple:\n",
    "    it is immutable DS\n",
    "    it is collection of element\n",
    "    same type or different type\n",
    "    tuple can contain duplicate element"
   ]
  },
  {
   "cell_type": "code",
   "execution_count": null,
   "id": "ab24c244",
   "metadata": {},
   "outputs": [],
   "source": [
    "DS\n",
    "\n",
    "\n",
    "Django --> flask \n",
    "\n",
    "web framework "
   ]
  },
  {
   "cell_type": "code",
   "execution_count": null,
   "id": "93d0b7f3",
   "metadata": {},
   "outputs": [],
   "source": [
    "ML --> django /Flask"
   ]
  },
  {
   "cell_type": "code",
   "execution_count": null,
   "id": "89f803dd",
   "metadata": {},
   "outputs": [],
   "source": [
    "Python De"
   ]
  },
  {
   "cell_type": "code",
   "execution_count": null,
   "id": "c1bfb216",
   "metadata": {},
   "outputs": [],
   "source": [
    "PythonBasic -- ML --DS\n",
    "\n",
    "\n",
    "Dev DE,DA,ML,DS"
   ]
  },
  {
   "cell_type": "code",
   "execution_count": null,
   "id": "b1cec75a",
   "metadata": {},
   "outputs": [],
   "source": [
    "DA -\n",
    "excel\n",
    "Pandas --DA\n",
    "numpy\n",
    "seaborn\n",
    "matplotlib\n",
    "powerbi/Tablue\n",
    "SQL --> DA\n",
    "ETL"
   ]
  },
  {
   "cell_type": "code",
   "execution_count": null,
   "id": "8fd5c067",
   "metadata": {},
   "outputs": [],
   "source": [
    "Pandas is an open source Python package that is most widely used for \n",
    "data science/data analysis and machine learning tasks. \n",
    "It is built on top of another package named Numpy, \n",
    "which provides support for multi-dimensional arrays."
   ]
  },
  {
   "cell_type": "code",
   "execution_count": null,
   "id": "dea6ed82",
   "metadata": {},
   "outputs": [],
   "source": [
    "Data base -->IT"
   ]
  },
  {
   "cell_type": "code",
   "execution_count": null,
   "id": "86952141",
   "metadata": {},
   "outputs": [],
   "source": [
    "commodity\n",
    "iron ore\n",
    "alumina\n",
    "al\n",
    "prece\n",
    "bo\n",
    "mote"
   ]
  },
  {
   "cell_type": "code",
   "execution_count": null,
   "id": "860bab1f",
   "metadata": {},
   "outputs": [],
   "source": [
    "Data -> "
   ]
  },
  {
   "cell_type": "code",
   "execution_count": 1,
   "id": "98293f83",
   "metadata": {},
   "outputs": [],
   "source": [
    "p = (1,3,4,79)"
   ]
  },
  {
   "cell_type": "code",
   "execution_count": 2,
   "id": "001e722c",
   "metadata": {},
   "outputs": [
    {
     "data": {
      "text/plain": [
       "tuple"
      ]
     },
     "execution_count": 2,
     "metadata": {},
     "output_type": "execute_result"
    }
   ],
   "source": [
    "type(p)"
   ]
  },
  {
   "cell_type": "code",
   "execution_count": null,
   "id": "01470532",
   "metadata": {},
   "outputs": [],
   "source": []
  },
  {
   "cell_type": "code",
   "execution_count": null,
   "id": "708ce770",
   "metadata": {},
   "outputs": [],
   "source": [
    "Employee:\n",
    "    id    --> no\n",
    "    name   --> yes\n",
    "    sal  --> yes\n",
    "    city --> yes\n",
    "    age --> yes\n",
    "    designation --> yes"
   ]
  },
  {
   "cell_type": "code",
   "execution_count": null,
   "id": "a0735f40",
   "metadata": {},
   "outputs": [],
   "source": [
    "security  ---> "
   ]
  },
  {
   "cell_type": "code",
   "execution_count": null,
   "id": "715b64dc",
   "metadata": {},
   "outputs": [],
   "source": [
    "username  \n",
    "password"
   ]
  },
  {
   "cell_type": "code",
   "execution_count": 3,
   "id": "a47e73a2",
   "metadata": {},
   "outputs": [],
   "source": [
    "py_tuple = ('Admin','Admin@123')"
   ]
  },
  {
   "cell_type": "code",
   "execution_count": 4,
   "id": "da1c6f4b",
   "metadata": {},
   "outputs": [
    {
     "data": {
      "text/plain": [
       "('Admin', 'Admin@123')"
      ]
     },
     "execution_count": 4,
     "metadata": {},
     "output_type": "execute_result"
    }
   ],
   "source": [
    "py_tuple"
   ]
  },
  {
   "cell_type": "code",
   "execution_count": 6,
   "id": "f32ff84f",
   "metadata": {},
   "outputs": [
    {
     "ename": "AttributeError",
     "evalue": "'tuple' object has no attribute 'insert'",
     "output_type": "error",
     "traceback": [
      "\u001b[1;31m---------------------------------------------------------------------------\u001b[0m",
      "\u001b[1;31mAttributeError\u001b[0m                            Traceback (most recent call last)",
      "\u001b[1;32m<ipython-input-6-718672fa904c>\u001b[0m in \u001b[0;36m<module>\u001b[1;34m\u001b[0m\n\u001b[1;32m----> 1\u001b[1;33m \u001b[0mpy_tuple\u001b[0m\u001b[1;33m.\u001b[0m\u001b[0minsert\u001b[0m\u001b[1;33m(\u001b[0m\u001b[1;36m0\u001b[0m\u001b[1;33m,\u001b[0m\u001b[1;34m'Python'\u001b[0m\u001b[1;33m)\u001b[0m\u001b[1;33m\u001b[0m\u001b[1;33m\u001b[0m\u001b[0m\n\u001b[0m",
      "\u001b[1;31mAttributeError\u001b[0m: 'tuple' object has no attribute 'insert'"
     ]
    }
   ],
   "source": [
    "py_tuple.insert(0,'Python')"
   ]
  },
  {
   "cell_type": "code",
   "execution_count": null,
   "id": "f185218c",
   "metadata": {},
   "outputs": [],
   "source": []
  },
  {
   "cell_type": "code",
   "execution_count": 7,
   "id": "5db6749f",
   "metadata": {},
   "outputs": [],
   "source": [
    "d = {}"
   ]
  },
  {
   "cell_type": "code",
   "execution_count": 8,
   "id": "1b4fdd89",
   "metadata": {},
   "outputs": [
    {
     "data": {
      "text/plain": [
       "dict"
      ]
     },
     "execution_count": 8,
     "metadata": {},
     "output_type": "execute_result"
    }
   ],
   "source": [
    "type(d)"
   ]
  },
  {
   "cell_type": "code",
   "execution_count": 9,
   "id": "5fa70779",
   "metadata": {},
   "outputs": [
    {
     "ename": "AttributeError",
     "evalue": "'dict' object has no attribute 'insert'",
     "output_type": "error",
     "traceback": [
      "\u001b[1;31m---------------------------------------------------------------------------\u001b[0m",
      "\u001b[1;31mAttributeError\u001b[0m                            Traceback (most recent call last)",
      "\u001b[1;32m<ipython-input-9-0a61cf23537e>\u001b[0m in \u001b[0;36m<module>\u001b[1;34m\u001b[0m\n\u001b[1;32m----> 1\u001b[1;33m \u001b[0md\u001b[0m\u001b[1;33m.\u001b[0m\u001b[0minsert\u001b[0m\u001b[1;33m(\u001b[0m\u001b[1;36m1\u001b[0m\u001b[1;33m,\u001b[0m\u001b[1;36m56\u001b[0m\u001b[1;33m)\u001b[0m\u001b[1;33m\u001b[0m\u001b[1;33m\u001b[0m\u001b[0m\n\u001b[0m",
      "\u001b[1;31mAttributeError\u001b[0m: 'dict' object has no attribute 'insert'"
     ]
    }
   ],
   "source": [
    "d.insert(1,56)"
   ]
  },
  {
   "cell_type": "code",
   "execution_count": 10,
   "id": "11e5e40d",
   "metadata": {},
   "outputs": [],
   "source": [
    "p = []"
   ]
  },
  {
   "cell_type": "code",
   "execution_count": 11,
   "id": "55297fd6",
   "metadata": {},
   "outputs": [
    {
     "ename": "AttributeError",
     "evalue": "'list' object has no attribute 'keys'",
     "output_type": "error",
     "traceback": [
      "\u001b[1;31m---------------------------------------------------------------------------\u001b[0m",
      "\u001b[1;31mAttributeError\u001b[0m                            Traceback (most recent call last)",
      "\u001b[1;32m<ipython-input-11-289012821b20>\u001b[0m in \u001b[0;36m<module>\u001b[1;34m\u001b[0m\n\u001b[1;32m----> 1\u001b[1;33m \u001b[0mp\u001b[0m\u001b[1;33m.\u001b[0m\u001b[0mkeys\u001b[0m\u001b[1;33m(\u001b[0m\u001b[1;33m)\u001b[0m\u001b[1;33m\u001b[0m\u001b[1;33m\u001b[0m\u001b[0m\n\u001b[0m",
      "\u001b[1;31mAttributeError\u001b[0m: 'list' object has no attribute 'keys'"
     ]
    }
   ],
   "source": [
    "p.keys()"
   ]
  },
  {
   "cell_type": "code",
   "execution_count": 12,
   "id": "e9b75ec6",
   "metadata": {},
   "outputs": [
    {
     "data": {
      "text/plain": [
       "('Admin', 'Admin@123')"
      ]
     },
     "execution_count": 12,
     "metadata": {},
     "output_type": "execute_result"
    }
   ],
   "source": [
    "py_tuple"
   ]
  },
  {
   "cell_type": "code",
   "execution_count": 13,
   "id": "ef5b4112",
   "metadata": {},
   "outputs": [],
   "source": [
    "p = (1,1,1,1,1,2,3,4,5)"
   ]
  },
  {
   "cell_type": "code",
   "execution_count": 14,
   "id": "aee03fb2",
   "metadata": {},
   "outputs": [
    {
     "data": {
      "text/plain": [
       "5"
      ]
     },
     "execution_count": 14,
     "metadata": {},
     "output_type": "execute_result"
    }
   ],
   "source": [
    "p.count(1)"
   ]
  },
  {
   "cell_type": "code",
   "execution_count": 15,
   "id": "c4ced9cd",
   "metadata": {},
   "outputs": [],
   "source": [
    "p = ('a','python','java',560,700,'Hadoop')"
   ]
  },
  {
   "cell_type": "code",
   "execution_count": 16,
   "id": "fd65bd48",
   "metadata": {},
   "outputs": [
    {
     "data": {
      "text/plain": [
       "2"
      ]
     },
     "execution_count": 16,
     "metadata": {},
     "output_type": "execute_result"
    }
   ],
   "source": [
    "p.index('java')"
   ]
  },
  {
   "cell_type": "code",
   "execution_count": 17,
   "id": "07b090da",
   "metadata": {},
   "outputs": [
    {
     "data": {
      "text/plain": [
       "'java'"
      ]
     },
     "execution_count": 17,
     "metadata": {},
     "output_type": "execute_result"
    }
   ],
   "source": [
    "p[2]"
   ]
  },
  {
   "cell_type": "code",
   "execution_count": null,
   "id": "4bde24e8",
   "metadata": {},
   "outputs": [],
   "source": [
    "#interview "
   ]
  },
  {
   "cell_type": "code",
   "execution_count": 19,
   "id": "fc68225a",
   "metadata": {},
   "outputs": [
    {
     "data": {
      "text/plain": [
       "('a', 'python', 'java', 560, 700, 'Hadoop')"
      ]
     },
     "execution_count": 19,
     "metadata": {},
     "output_type": "execute_result"
    }
   ],
   "source": [
    "p"
   ]
  },
  {
   "cell_type": "code",
   "execution_count": null,
   "id": "da6e85c9",
   "metadata": {},
   "outputs": [],
   "source": [
    "p --> list --insert ---> tuple"
   ]
  },
  {
   "cell_type": "code",
   "execution_count": 20,
   "id": "7baae57b",
   "metadata": {},
   "outputs": [
    {
     "data": {
      "text/plain": [
       "('a', 'python', 'java', 560, 700, 'Hadoop')"
      ]
     },
     "execution_count": 20,
     "metadata": {},
     "output_type": "execute_result"
    }
   ],
   "source": [
    "p"
   ]
  },
  {
   "cell_type": "code",
   "execution_count": 21,
   "id": "6611adf7",
   "metadata": {},
   "outputs": [],
   "source": [
    "p = (1,1,1,1,1,2,3,4,5)"
   ]
  },
  {
   "cell_type": "code",
   "execution_count": 22,
   "id": "e04e9398",
   "metadata": {},
   "outputs": [
    {
     "data": {
      "text/plain": [
       "(1, 1, 1, 1, 1, 2, 3, 4, 5)"
      ]
     },
     "execution_count": 22,
     "metadata": {},
     "output_type": "execute_result"
    }
   ],
   "source": [
    "p"
   ]
  },
  {
   "cell_type": "code",
   "execution_count": null,
   "id": "76d18588",
   "metadata": {},
   "outputs": [],
   "source": []
  },
  {
   "cell_type": "code",
   "execution_count": 24,
   "id": "c2ae233e",
   "metadata": {},
   "outputs": [],
   "source": [
    "py = 45,60,90,78,56,36"
   ]
  },
  {
   "cell_type": "code",
   "execution_count": 25,
   "id": "65f41510",
   "metadata": {},
   "outputs": [
    {
     "data": {
      "text/plain": [
       "(45, 60, 90, 78, 56, 36)"
      ]
     },
     "execution_count": 25,
     "metadata": {},
     "output_type": "execute_result"
    }
   ],
   "source": [
    "py   #packing"
   ]
  },
  {
   "cell_type": "code",
   "execution_count": 28,
   "id": "52d5a7c4",
   "metadata": {},
   "outputs": [],
   "source": [
    "p = (100,)"
   ]
  },
  {
   "cell_type": "code",
   "execution_count": 29,
   "id": "ba1c22e1",
   "metadata": {},
   "outputs": [
    {
     "data": {
      "text/plain": [
       "tuple"
      ]
     },
     "execution_count": 29,
     "metadata": {},
     "output_type": "execute_result"
    }
   ],
   "source": [
    "type(p)"
   ]
  },
  {
   "cell_type": "code",
   "execution_count": null,
   "id": "a1bbc8b5",
   "metadata": {},
   "outputs": [],
   "source": [
    "tuple\n",
    "1.element --()\n",
    "2. no of element --> one varibale assign\n",
    "2.single element --(,)"
   ]
  },
  {
   "cell_type": "code",
   "execution_count": null,
   "id": "9b684cb2",
   "metadata": {},
   "outputs": [],
   "source": [
    "mutable\n",
    "performance --> tuple is faster than list\n",
    "consume less amount of memory"
   ]
  },
  {
   "cell_type": "code",
   "execution_count": null,
   "id": "7097231a",
   "metadata": {},
   "outputs": [],
   "source": [
    "p = []   --> fixed ,variable"
   ]
  },
  {
   "cell_type": "code",
   "execution_count": null,
   "id": "26bb2346",
   "metadata": {},
   "outputs": [],
   "source": [
    "strcture --> tuple"
   ]
  },
  {
   "cell_type": "code",
   "execution_count": null,
   "id": "7d2b935e",
   "metadata": {},
   "outputs": [],
   "source": [
    "tuple --> set\n",
    "\n",
    "after revision -> scrach"
   ]
  },
  {
   "cell_type": "code",
   "execution_count": 1,
   "id": "03f225ad",
   "metadata": {},
   "outputs": [],
   "source": [
    "a = 'Python'"
   ]
  },
  {
   "cell_type": "code",
   "execution_count": 2,
   "id": "eed77ba6",
   "metadata": {},
   "outputs": [],
   "source": [
    "b = 'Java'"
   ]
  },
  {
   "cell_type": "code",
   "execution_count": 3,
   "id": "f3290488",
   "metadata": {},
   "outputs": [
    {
     "data": {
      "text/plain": [
       "'PythonJava'"
      ]
     },
     "execution_count": 3,
     "metadata": {},
     "output_type": "execute_result"
    }
   ],
   "source": [
    "a+b"
   ]
  },
  {
   "cell_type": "code",
   "execution_count": 4,
   "id": "94b42eff",
   "metadata": {},
   "outputs": [
    {
     "data": {
      "text/plain": [
       "179"
      ]
     },
     "execution_count": 4,
     "metadata": {},
     "output_type": "execute_result"
    }
   ],
   "source": [
    "89+90"
   ]
  },
  {
   "cell_type": "code",
   "execution_count": 5,
   "id": "a0a13f96",
   "metadata": {},
   "outputs": [
    {
     "data": {
      "text/plain": [
       "113.67"
      ]
     },
     "execution_count": 5,
     "metadata": {},
     "output_type": "execute_result"
    }
   ],
   "source": [
    "24.67+89"
   ]
  },
  {
   "cell_type": "code",
   "execution_count": null,
   "id": "eb1590b6",
   "metadata": {},
   "outputs": [],
   "source": [
    "ds \n",
    "\n",
    "\n",
    "+\n",
    "\n",
    "\n",
    "*"
   ]
  },
  {
   "cell_type": "code",
   "execution_count": null,
   "id": "29587dd2",
   "metadata": {},
   "outputs": [],
   "source": []
  },
  {
   "cell_type": "code",
   "execution_count": 6,
   "id": "bff19c2d",
   "metadata": {},
   "outputs": [],
   "source": [
    "t = (1,2,3)"
   ]
  },
  {
   "cell_type": "code",
   "execution_count": 7,
   "id": "db853fd5",
   "metadata": {},
   "outputs": [],
   "source": [
    "t2 = (100,200,300)"
   ]
  },
  {
   "cell_type": "code",
   "execution_count": 11,
   "id": "f25d24a2",
   "metadata": {},
   "outputs": [],
   "source": [
    "t3 = t+t2"
   ]
  },
  {
   "cell_type": "code",
   "execution_count": 12,
   "id": "bb460dea",
   "metadata": {},
   "outputs": [
    {
     "data": {
      "text/plain": [
       "(1, 2, 3, 100, 200, 300)"
      ]
     },
     "execution_count": 12,
     "metadata": {},
     "output_type": "execute_result"
    }
   ],
   "source": [
    "t3"
   ]
  },
  {
   "cell_type": "code",
   "execution_count": 10,
   "id": "2299fce9",
   "metadata": {},
   "outputs": [
    {
     "data": {
      "text/plain": [
       "(100, 200, 300)"
      ]
     },
     "execution_count": 10,
     "metadata": {},
     "output_type": "execute_result"
    }
   ],
   "source": [
    "t2"
   ]
  },
  {
   "cell_type": "code",
   "execution_count": 13,
   "id": "2f0a5923",
   "metadata": {},
   "outputs": [],
   "source": [
    "p= [1,23]"
   ]
  },
  {
   "cell_type": "code",
   "execution_count": 14,
   "id": "a5fd1bf4",
   "metadata": {},
   "outputs": [],
   "source": [
    "l2 = [400,500]"
   ]
  },
  {
   "cell_type": "code",
   "execution_count": 15,
   "id": "056392d7",
   "metadata": {},
   "outputs": [
    {
     "data": {
      "text/plain": [
       "[1, 23, 400, 500]"
      ]
     },
     "execution_count": 15,
     "metadata": {},
     "output_type": "execute_result"
    }
   ],
   "source": [
    "p+l2"
   ]
  },
  {
   "cell_type": "code",
   "execution_count": 16,
   "id": "14a5c5a1",
   "metadata": {},
   "outputs": [
    {
     "data": {
      "text/plain": [
       "360"
      ]
     },
     "execution_count": 16,
     "metadata": {},
     "output_type": "execute_result"
    }
   ],
   "source": [
    "9 *40"
   ]
  },
  {
   "cell_type": "code",
   "execution_count": null,
   "id": "16a5d362",
   "metadata": {},
   "outputs": [],
   "source": [
    "multiplication\n",
    "\n",
    "int * 8"
   ]
  },
  {
   "cell_type": "code",
   "execution_count": 17,
   "id": "e032d6de",
   "metadata": {},
   "outputs": [
    {
     "data": {
      "text/plain": [
       "'pythonpythonpythonpythonpythonpythonpythonpythonpythonpython'"
      ]
     },
     "execution_count": 17,
     "metadata": {},
     "output_type": "execute_result"
    }
   ],
   "source": [
    "'python'*10"
   ]
  },
  {
   "cell_type": "code",
   "execution_count": 28,
   "id": "c487e2b0",
   "metadata": {},
   "outputs": [
    {
     "name": "stdout",
     "output_type": "stream",
     "text": [
      "(1, 2, 3, 1, 2, 3, 1, 2, 3, 1, 2, 3, 1, 2, 3, 1, 2, 3, 1, 2, 3, 1, 2, 3, 1, 2, 3, 1, 2, 3, 1, 2, 3, 1, 2, 3, 1, 2, 3, 1, 2, 3, 1, 2, 3, 1, 2, 3, 1, 2, 3, 1, 2, 3, 1, 2, 3, 1, 2, 3)\n"
     ]
    }
   ],
   "source": [
    "print(t*20)"
   ]
  },
  {
   "cell_type": "code",
   "execution_count": 26,
   "id": "af672b62",
   "metadata": {},
   "outputs": [
    {
     "name": "stdout",
     "output_type": "stream",
     "text": [
      "[400, 500, 400, 500, 400, 500, 400, 500, 400, 500, 400, 500, 400, 500, 400, 500, 400, 500, 400, 500]\n"
     ]
    }
   ],
   "source": [
    "print(l2*10)"
   ]
  },
  {
   "cell_type": "code",
   "execution_count": null,
   "id": "69d085ea",
   "metadata": {},
   "outputs": [],
   "source": []
  },
  {
   "cell_type": "code",
   "execution_count": 29,
   "id": "3b591fb1",
   "metadata": {},
   "outputs": [],
   "source": [
    "#complex"
   ]
  },
  {
   "cell_type": "code",
   "execution_count": null,
   "id": "d38c7b2b",
   "metadata": {},
   "outputs": [],
   "source": [
    "list  -- tuple\n",
    "\n",
    "tuple -- list\n",
    "\n",
    "list --list\n",
    "\n",
    "tuple -tuple"
   ]
  },
  {
   "cell_type": "code",
   "execution_count": null,
   "id": "4ac7dad0",
   "metadata": {},
   "outputs": [],
   "source": []
  },
  {
   "cell_type": "code",
   "execution_count": 30,
   "id": "8d108d1a",
   "metadata": {},
   "outputs": [],
   "source": [
    "py_list = [1,2,3,4,(100,200,300),800]"
   ]
  },
  {
   "cell_type": "code",
   "execution_count": 31,
   "id": "98c3fabe",
   "metadata": {},
   "outputs": [
    {
     "data": {
      "text/plain": [
       "[1, 2, 3, 4, (100, 200, 300), 800]"
      ]
     },
     "execution_count": 31,
     "metadata": {},
     "output_type": "execute_result"
    }
   ],
   "source": [
    "py_list"
   ]
  },
  {
   "cell_type": "code",
   "execution_count": null,
   "id": "69cce8d0",
   "metadata": {},
   "outputs": [],
   "source": [
    "Note:\n",
    "    DS location will not impact its property"
   ]
  },
  {
   "cell_type": "code",
   "execution_count": 32,
   "id": "5dac4dfe",
   "metadata": {},
   "outputs": [],
   "source": [
    "py_tuple = (1,2,3,5,6,[100,200,300],700)"
   ]
  },
  {
   "cell_type": "code",
   "execution_count": 35,
   "id": "9b0b54f8",
   "metadata": {},
   "outputs": [],
   "source": [
    "py_tuple[5].insert(2,'python')"
   ]
  },
  {
   "cell_type": "code",
   "execution_count": 36,
   "id": "9fcaa056",
   "metadata": {},
   "outputs": [
    {
     "data": {
      "text/plain": [
       "(1, 2, 3, 5, 6, [100, 200, 'python', 300], 700)"
      ]
     },
     "execution_count": 36,
     "metadata": {},
     "output_type": "execute_result"
    }
   ],
   "source": [
    "py_tuple"
   ]
  },
  {
   "cell_type": "code",
   "execution_count": 37,
   "id": "5f6b9bfa",
   "metadata": {},
   "outputs": [],
   "source": [
    "a = 100"
   ]
  },
  {
   "cell_type": "code",
   "execution_count": 38,
   "id": "f35ae5bc",
   "metadata": {},
   "outputs": [
    {
     "data": {
      "text/plain": [
       "140720122770320"
      ]
     },
     "execution_count": 38,
     "metadata": {},
     "output_type": "execute_result"
    }
   ],
   "source": [
    "\n",
    "id(a)"
   ]
  },
  {
   "cell_type": "code",
   "execution_count": 40,
   "id": "f8c7e72f",
   "metadata": {},
   "outputs": [],
   "source": [
    "#how to access complex structure"
   ]
  },
  {
   "cell_type": "code",
   "execution_count": 3,
   "id": "18ab4255",
   "metadata": {},
   "outputs": [],
   "source": [
    "p = [1,[2,3,[4,6,[100,[400]]]]]"
   ]
  },
  {
   "cell_type": "code",
   "execution_count": 6,
   "id": "80e95651",
   "metadata": {},
   "outputs": [
    {
     "data": {
      "text/plain": [
       "[400]"
      ]
     },
     "execution_count": 6,
     "metadata": {},
     "output_type": "execute_result"
    }
   ],
   "source": [
    "p[1][2][2][1].insert(1,600)"
   ]
  },
  {
   "cell_type": "code",
   "execution_count": 58,
   "id": "2776740c",
   "metadata": {},
   "outputs": [
    {
     "data": {
      "text/plain": [
       "400"
      ]
     },
     "execution_count": 58,
     "metadata": {},
     "output_type": "execute_result"
    }
   ],
   "source": [
    "p[-1][-1][-1][-1][0]"
   ]
  },
  {
   "cell_type": "code",
   "execution_count": 60,
   "id": "f62959ea",
   "metadata": {},
   "outputs": [
    {
     "data": {
      "text/plain": [
       "[1, [2, 3, [4, 6, [100, [400, 600]]]]]"
      ]
     },
     "execution_count": 60,
     "metadata": {},
     "output_type": "execute_result"
    }
   ],
   "source": [
    "p"
   ]
  },
  {
   "cell_type": "code",
   "execution_count": 65,
   "id": "4a4b298b",
   "metadata": {},
   "outputs": [
    {
     "data": {
      "text/plain": [
       "600"
      ]
     },
     "execution_count": 65,
     "metadata": {},
     "output_type": "execute_result"
    }
   ],
   "source": [
    "p[-1][-1][-1][-1][-1]"
   ]
  },
  {
   "cell_type": "code",
   "execution_count": null,
   "id": "b2cfe6f4",
   "metadata": {},
   "outputs": [],
   "source": [
    "d = {  \n",
    "   \"Records\":[  \n",
    "      {  \n",
    "         \"eventVersion\":\"2.2\",\n",
    "         \"eventSource\":\"aws:s3\",\n",
    "         \"awsRegion\":\"us-west-2\",\n",
    "         \"eventTime\":\"The time, in ISO-8601 format, for example, 1970-01-01T00:00:00.000Z, when Amazon S3 finished processing the request\",\n",
    "         \"eventName\":\"event-type\",\n",
    "         \"userIdentity\":{  \n",
    "            \"principalId\":\"Amazon-customer-ID-of-the-user-who-caused-the-event\"\n",
    "         },\n",
    "         \"requestParameters\":{  \n",
    "            \"sourceIPAddress\":\"ip-address-where-request-came-from\"\n",
    "         },\n",
    "         \"responseElements\":{  \n",
    "            \"x-amz-request-id\":\"Amazon S3 generated request ID\",\n",
    "            \"x-amz-id-2\":\"Amazon S3 host that processed the request\"\n",
    "         },\n",
    "         \"s3\":{  \n",
    "            \"s3SchemaVersion\":\"1.0\",\n",
    "            \"configurationId\":\"ID found in the bucket notification configuration\",\n",
    "            \"bucket\":{  \n",
    "               \"name\":\"bucket-name\",\n",
    "               \"ownerIdentity\":{  \n",
    "                  \"principalId\":\"Amazon-customer-ID-of-the-bucket-owner\"\n",
    "               },\n",
    "               \"arn\":\"bucket-ARN\"\n",
    "            },\n",
    "            \"object\":{  \n",
    "               \"key\":\"object-key\",\n",
    "               \"size\":\"object-size in bytes\",\n",
    "               \"eTag\":\"object eTag\",\n",
    "               \"versionId\":\"object version if bucket is versioning-enabled, otherwise null\",\n",
    "               \"sequencer\": \"a string representation of a hexadecimal value used to determine event sequence, only used with PUTs and DELETEs\"\n",
    "            }\n",
    "         },\n",
    "         \"glacierEventData\": {\n",
    "            \"restoreEventData\": {\n",
    "               \"lifecycleRestorationExpiryTime\": \"The time, in ISO-8601 format, for example, 1970-01-01T00:00:00.000Z, of Restore Expiry\",\n",
    "               \"lifecycleRestoreStorageClass\": \"Source storage class for restore\"\n",
    "            }\n",
    "         }\n",
    "      }\n",
    "   ]\n",
    "}"
   ]
  },
  {
   "cell_type": "code",
   "execution_count": 79,
   "id": "8fed2f13",
   "metadata": {},
   "outputs": [
    {
     "data": {
      "text/plain": [
       "list"
      ]
     },
     "execution_count": 79,
     "metadata": {},
     "output_type": "execute_result"
    }
   ],
   "source": [
    "type(d['Records'])"
   ]
  },
  {
   "cell_type": "code",
   "execution_count": 81,
   "id": "b256430c",
   "metadata": {},
   "outputs": [
    {
     "ename": "IndexError",
     "evalue": "list index out of range",
     "output_type": "error",
     "traceback": [
      "\u001b[1;31m---------------------------------------------------------------------------\u001b[0m",
      "\u001b[1;31mIndexError\u001b[0m                                Traceback (most recent call last)",
      "\u001b[1;32m<ipython-input-81-209cc8cd4edf>\u001b[0m in \u001b[0;36m<module>\u001b[1;34m\u001b[0m\n\u001b[1;32m----> 1\u001b[1;33m \u001b[0mp\u001b[0m \u001b[1;33m[\u001b[0m\u001b[1;36m100\u001b[0m\u001b[1;33m]\u001b[0m\u001b[1;33m\u001b[0m\u001b[1;33m\u001b[0m\u001b[0m\n\u001b[0m",
      "\u001b[1;31mIndexError\u001b[0m: list index out of range"
     ]
    }
   ],
   "source": [
    "p [100]"
   ]
  },
  {
   "cell_type": "code",
   "execution_count": null,
   "id": "d5bb9ab0",
   "metadata": {},
   "outputs": [],
   "source": []
  },
  {
   "cell_type": "code",
   "execution_count": null,
   "id": "f4366134",
   "metadata": {},
   "outputs": [],
   "source": []
  },
  {
   "cell_type": "code",
   "execution_count": null,
   "id": "ef45f366",
   "metadata": {},
   "outputs": [],
   "source": []
  },
  {
   "cell_type": "code",
   "execution_count": null,
   "id": "efec1672",
   "metadata": {},
   "outputs": [],
   "source": []
  },
  {
   "cell_type": "code",
   "execution_count": null,
   "id": "90406422",
   "metadata": {},
   "outputs": [],
   "source": []
  },
  {
   "cell_type": "code",
   "execution_count": null,
   "id": "f9bd7de3",
   "metadata": {},
   "outputs": [],
   "source": []
  },
  {
   "cell_type": "code",
   "execution_count": null,
   "id": "2fccdf71",
   "metadata": {},
   "outputs": [],
   "source": []
  }
 ],
 "metadata": {
  "kernelspec": {
   "display_name": "Python 3 (ipykernel)",
   "language": "python",
   "name": "python3"
  },
  "language_info": {
   "codemirror_mode": {
    "name": "ipython",
    "version": 3
   },
   "file_extension": ".py",
   "mimetype": "text/x-python",
   "name": "python",
   "nbconvert_exporter": "python",
   "pygments_lexer": "ipython3",
   "version": "3.9.12"
  }
 },
 "nbformat": 4,
 "nbformat_minor": 5
}
